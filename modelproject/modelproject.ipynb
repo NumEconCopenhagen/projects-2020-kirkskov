{
 "cells": [
  {
   "cell_type": "markdown",
   "metadata": {},
   "source": [
    "# The Solow Model and Green Solow model"
   ]
  },
  {
   "cell_type": "markdown",
   "metadata": {},
   "source": [
    "In 2004, Brock and Taylor introduced the Green Solow Model as an extension to the standard and well known Solow Model. The idea was to incorporate the costs of pollution associated with production into the production function itself. In this project, we aim to code the Green Solow Model and analyze it from various perspectives."
   ]
  },
  {
   "cell_type": "code",
   "execution_count": 33,
   "metadata": {},
   "outputs": [
    {
     "name": "stdout",
     "output_type": "stream",
     "text": [
      "The autoreload extension is already loaded. To reload it, use:\n",
      "  %reload_ext autoreload\n"
     ]
    }
   ],
   "source": [
    "import numpy as np\n",
    "import matplotlib.pyplot as plt\n",
    "from scipy import optimize\n",
    "import sympy as sm\n",
    "import ipywidgets as widgets\n",
    "# autoreload modules when code is run\n",
    "%load_ext autoreload\n",
    "%autoreload 2\n",
    "\n",
    "# local modules\n",
    "import modelproject"
   ]
  },
  {
   "cell_type": "markdown",
   "metadata": {
    "toc-hr-collapsed": true
   },
   "source": [
    "# Model description"
   ]
  },
  {
   "cell_type": "markdown",
   "metadata": {},
   "source": [
    "First, we set up the original Solow model that was presented by Solow and Swan in 1956:\n",
    "\n",
    "\\begin{align}\n",
    "    & Y_t = F(K_t,B_tL_t) = K_t^{\\alpha}B_tL_t^{1-\\alpha}, \\quad 1>\\alpha>0 \\quad \\quad (1) \\\\\n",
    "    & \\dot{K_t} = sY_t - \\delta K_t \\quad \\quad (2) \\\\ \n",
    "    & \\dot{L_t} = nL_t \\Rightarrow L_t=L_0 e^{nt} \\quad \\quad (3) \\\\\n",
    "    & \\dot{B_t} = g_BB_t \\Rightarrow B_t=B_0 e^{g_Bt}, \\quad 1>g_B>0 \\quad \\quad (4) \n",
    "\\end{align}\n",
    "\n",
    ", where the variables are defined as:\n",
    "\n",
    "* $K_t$ is capital\n",
    "* $L_t$ is labor (growing with a constant rate of $n$)\n",
    "* $A_t$ is technology (growing with a constant rate of $g$)\n",
    "* $Y_t = F(K_t,A_tL_t)$ is GDP\n",
    "* $B_t$ is labour augmenting technology (knowledge)\n",
    "\n",
    "Equation (1) shows a standard Cobb-Douglas production function with constant returns to scale. Production at a given time depends on the stock of capital and effective labour. \n",
    "Equation (2) describes the evolution of capital as depending positively on savings and negatively on depreciation of capital. In the function, $s$ is the savings rate, and $\\delta$ is the depreciation rate.\n",
    "Equation (3) notes that the labour growth is equal to a parameter, $n$. The absolute growth in the labour force at a given time is equal to the percentage growth times the current labour force.\n",
    "Equivalently, equation (4) shows that the absolute growth in labour augmenting technology is equal to the percentage growth in technology, $g_B$, times the current technology level.\n",
    "\n",
    "Equation (2) implies that **saving** is a constant fraction of GDP\n",
    "\n",
    "$$ S_t = sY_t,\\,s\\in(0,1) $$\n",
    "\n",
    "such that **capital accumulates** according to\n",
    "\n",
    "$$ K_{t+1}=S_{t}+(1-\\delta)K_{t}=sF(K_{t},A_{t}L_{t})+(1-\\delta)K_{t}, \\delta \\in (0,1) $$\n",
    "\n",
    "The **production function** has **constant-return to scale** such that\n",
    "\n",
    "$$ \\frac{Y_{t}}{A_{t}L_{t}}=\\frac{F(K_{t},A_{t}L_{t})}{A_{t}L_{t}}=F(\\tilde{k}_{t},1)\\equiv f(\\tilde{k}_{t}) $$\n",
    "\n",
    "where $\\tilde{k}_t = \\frac{K_t}{A_{t}L_{t}}$ is the technology adjusted capital-labor ratio.\n",
    "\n",
    "The **transition equation** then becomes\n",
    "\n",
    "$$ \\tilde{k}_{t+1}= \\frac{1}{(1+n)(1+g)}[sf(\\tilde{k}_{t})+(1-\\delta)\\tilde{k}_{t}] $$\n",
    "\n",
    "We assume the **production function** is **Cobb-Douglas** so\n",
    "\n",
    "$$ F(K_{t},A_{t}L_{t})=K_{t}^{\\alpha}(A_{t}L_{t})^{1-\\alpha}\\Rightarrow f(\\tilde{k}_{t})=\\tilde{k}_{t}^{\\alpha} $$"
   ]
  },
  {
   "cell_type": "markdown",
   "metadata": {},
   "source": [
    "# Steady state"
   ]
  },
  {
   "cell_type": "markdown",
   "metadata": {},
   "source": [
    "First we would like to find the steady state. This can be done analytically, where you simply solve an equation using sympy. It can also be done numerically, where give an optimizer some starting values, and then it finds the inputs that give the optimal value."
   ]
  },
  {
   "cell_type": "markdown",
   "metadata": {},
   "source": [
    "## Analytical solution"
   ]
  },
  {
   "cell_type": "markdown",
   "metadata": {},
   "source": [
    "when using sympy to find the steady state, we have to solve the following:\n",
    "\n",
    "$$ \\tilde{k}^{\\ast}= \\frac{1}{(1+n)(1+g)}[sf(\\tilde{k}^{\\ast})+(1-\\delta)\\tilde{k}^{\\ast}] $$"
   ]
  },
  {
   "cell_type": "markdown",
   "metadata": {},
   "source": [
    "We can start out by defining the different values and defining the steady state equation:"
   ]
  },
  {
   "cell_type": "code",
   "execution_count": 34,
   "metadata": {},
   "outputs": [],
   "source": [
    "#using sympy to define symbols\n",
    "k = sm.symbols('k')\n",
    "alpha = sm.symbols('alpha')\n",
    "delta = sm.symbols('delta')\n",
    "s = sm.symbols('s')\n",
    "g = sm.symbols('g')\n",
    "n = sm.symbols('n')\n",
    "\n",
    "#Coding function to be solved\n",
    "ss = sm.Eq(k,(s*k**alpha+(1-delta)*k)/((1+n)*(1+g)))"
   ]
  },
  {
   "cell_type": "markdown",
   "metadata": {},
   "source": [
    "Using the sympy package it is then possible to solve the equation."
   ]
  },
  {
   "cell_type": "code",
   "execution_count": 35,
   "metadata": {},
   "outputs": [
    {
     "data": {
      "text/latex": [
       "$\\displaystyle \\left(\\frac{\\delta + g n + g + n}{s}\\right)^{\\frac{1}{\\alpha - 1}}$"
      ],
      "text/plain": [
       "((delta + g*n + g + n)/s)**(1/(alpha - 1))"
      ]
     },
     "execution_count": 35,
     "metadata": {},
     "output_type": "execute_result"
    }
   ],
   "source": [
    "#Solving function analytically\n",
    "kss = sm.solve(ss,k)[0]\n",
    "kss"
   ]
  },
  {
   "cell_type": "markdown",
   "metadata": {},
   "source": [
    "We now have an explicit expression of the steady state, which means that we can calculate it with different parameters. First, we need the solution to be a python function."
   ]
  },
  {
   "cell_type": "code",
   "execution_count": 36,
   "metadata": {},
   "outputs": [],
   "source": [
    "#transforming the function to a python function\n",
    "ss_func = sm.lambdify((s,g,n,alpha,delta),kss)"
   ]
  },
  {
   "cell_type": "markdown",
   "metadata": {},
   "source": [
    "Then we can define some parameters and have a look at the result"
   ]
  },
  {
   "cell_type": "code",
   "execution_count": 37,
   "metadata": {},
   "outputs": [],
   "source": [
    "#Defining parameters\n",
    "s = 0.2\n",
    "g = 0.02\n",
    "n = 0.01\n",
    "alpha = 1/3\n",
    "delta = 0.1"
   ]
  },
  {
   "cell_type": "code",
   "execution_count": 38,
   "metadata": {},
   "outputs": [
    {
     "name": "stdout",
     "output_type": "stream",
     "text": [
      "analytical solution is: 1.903831539231319\n"
     ]
    }
   ],
   "source": [
    "print(f'analytical solution is: {ss_func(s,g,n,alpha,delta)}')"
   ]
  },
  {
   "cell_type": "markdown",
   "metadata": {},
   "source": [
    "In the steady state, capital per effektive worker equals 1.9 (with the selected parameter values)."
   ]
  },
  {
   "cell_type": "markdown",
   "metadata": {},
   "source": [
    "## Numerical solution"
   ]
  },
  {
   "cell_type": "markdown",
   "metadata": {},
   "source": [
    "In stead of finding the steady state analytically, one can also do it numerically. This is done by implementing the steady state function and then using an optimize function. First the function to solve can be rewritten in order to get a root-finding problem.\n",
    "\n",
    "\\\\[ 0 = \\frac{1}{(1+n)(1+g)}[sf(\\tilde{k}^{\\ast})+(1-\\delta)\\tilde{k}^{\\ast}] - \\tilde{k}^{\\ast} \\\\]\n"
   ]
  },
  {
   "cell_type": "markdown",
   "metadata": {},
   "source": [
    "We can then implement a function with the different variables as inputs and the steady state as output"
   ]
  },
  {
   "cell_type": "code",
   "execution_count": 39,
   "metadata": {},
   "outputs": [],
   "source": [
    "def ss_solver(s,g,n,alpha,delta):\n",
    "\n",
    "    \n",
    "    #using lambda functions in order to find the define the objective function\n",
    "    f = lambda k: k**alpha\n",
    "    obj_kss = lambda kss: kss - (s*f(kss) + (1-delta)*kss)/((1+g)*(1+n))\n",
    "\n",
    "    #using the optimize root function to finde the steady state\n",
    "    result = optimize.root_scalar(obj_kss,bracket=[0.1,100],method='bisect')\n",
    "    \n",
    "    return result\n",
    "\n",
    "\n"
   ]
  },
  {
   "cell_type": "markdown",
   "metadata": {},
   "source": [
    "The numerical solution for the steady state is then"
   ]
  },
  {
   "cell_type": "code",
   "execution_count": 40,
   "metadata": {},
   "outputs": [
    {
     "name": "stdout",
     "output_type": "stream",
     "text": [
      " numerical solution is: 1.903831539231108\n"
     ]
    }
   ],
   "source": [
    "#defining the solution\n",
    "solution = ss_solver(s,g,n,alpha,delta)\n",
    "\n",
    "\n",
    "print(f' numerical solution is: {solution.root}')"
   ]
  },
  {
   "cell_type": "markdown",
   "metadata": {},
   "source": [
    "Luckily, this is the same result as the analytical one. Both methods are valid, but it is not always possible to find an analytical explicit solution. The numerical methods should be computable in almost any case. "
   ]
  },
  {
   "cell_type": "markdown",
   "metadata": {},
   "source": [
    "# Further analysis"
   ]
  },
  {
   "cell_type": "markdown",
   "metadata": {},
   "source": [
    "Next we will take a look at some the results of the Solow model, both visually and interactively. We will also look at the Green Solow model as an extention of the regular Solow model."
   ]
  },
  {
   "cell_type": "markdown",
   "metadata": {},
   "source": [
    "## Visualizing the Solow model"
   ]
  },
  {
   "cell_type": "markdown",
   "metadata": {},
   "source": [
    "Lets first take a look at how the saving rate affects the steady state. We will start out by creating a function with only the saving rate as input"
   ]
  },
  {
   "cell_type": "code",
   "execution_count": 41,
   "metadata": {},
   "outputs": [],
   "source": [
    "def ss(s):\n",
    "    return ss_solver(s,0.02,0.01,1/3,0.1).root"
   ]
  },
  {
   "cell_type": "markdown",
   "metadata": {},
   "source": [
    "We can now plot the steady state for different values of saving rates."
   ]
  },
  {
   "cell_type": "code",
   "execution_count": 42,
   "metadata": {},
   "outputs": [
    {
     "data": {
      "image/png": "[encoded data removed]",
      "text/plain": [
       "<Figure size 432x288 with 1 Axes>"
      ]
     },
     "metadata": {
      "needs_background": "light"
     },
     "output_type": "display_data"
    }
   ],
   "source": [
    "x=np.linspace(0.2,1,101) #creating vector\n",
    "l_vec= []  #creating empty vector\n",
    "  #creating empty vector \n",
    "\n",
    "#looping through different values\n",
    "for i in x:\n",
    "    l_vec.append(ss(i))  #filling in the numbers in the vector\n",
    "    \n",
    "\n",
    "#Plotting\n",
    "plt.plot(x,l_vec)\n",
    "plt.xlabel(\"saving rate\")\n",
    "plt.ylabel(\"steady state\")\n",
    "plt.title(\"saving rate impact\")\n",
    "plt.show()"
   ]
  },
  {
   "cell_type": "markdown",
   "metadata": {},
   "source": [
    "The graph shows a positive and convex relationship between the savings rate and the steady state level of capital per effective worker. The savings rate\n",
    "is assumes to be a constant share of income and has no effect on the amount of labour - thus it makes sense that the higher it is, the more capital will be \n",
    "accumulated over time."
   ]
  },
  {
   "cell_type": "markdown",
   "metadata": {},
   "source": [
    "Next we can take a look at how the technology growing rate affects the steady state"
   ]
  },
  {
   "cell_type": "code",
   "execution_count": 43,
   "metadata": {},
   "outputs": [
    {
     "data": {
      "image/png": "[encoded data removed]",
      "text/plain": [
       "<Figure size 432x288 with 1 Axes>"
      ]
     },
     "metadata": {
      "needs_background": "light"
     },
     "output_type": "display_data"
    }
   ],
   "source": [
    "\n",
    "def gr(g):\n",
    "    return ss_solver(0.2,g,0.01,1/3,0.1).root\n",
    "\n",
    "x=np.linspace(0,0.2,101) #creating vector \n",
    "l_vec= []  #creating empty vector\n",
    "  #creating empty vector \n",
    "\n",
    "#looping through different values\n",
    "for i in x:\n",
    "    l_vec.append(gr(i))  #filling in the numbers in the vector\n",
    "    \n",
    "\n",
    "#Plotting\n",
    "plt.plot(x,l_vec)\n",
    "plt.xlabel(\"growth rate\")\n",
    "plt.ylabel(\"steady state\")\n",
    "plt.title(\"technology growth rate impact\")\n",
    "plt.show()"
   ]
  },
  {
   "cell_type": "markdown",
   "metadata": {},
   "source": [
    "Reversely, the technology growth rate has a negative effect on the steady state level of capital per effective worker. They key observation here is that the technology is labour augmenting - not capital augmenting. Thus, we can discuss the presence of opposing effect. The higher growth rate of technology should have a positive effect on output, which increases total savings and thus increases capital accumulation. However, since the technology is only increasing labour, this will grow more than capital, making the level of capital per worker smaller in steady state."
   ]
  },
  {
   "cell_type": "markdown",
   "metadata": {},
   "source": [
    "Another interesting thing to see is how the labor rate affects the steady state."
   ]
  },
  {
   "cell_type": "code",
   "execution_count": 44,
   "metadata": {},
   "outputs": [
    {
     "data": {
      "image/png": "[encoded data removed]",
      "text/plain": [
       "<Figure size 432x288 with 1 Axes>"
      ]
     },
     "metadata": {
      "needs_background": "light"
     },
     "output_type": "display_data"
    }
   ],
   "source": [
    "def labor(n):\n",
    "    return ss_solver(0.2,0.02,n,1/3,0.1).root\n",
    "\n",
    "x=np.linspace(0,0.2,101) #creating vector\n",
    "l_vec= []  #creating empty vector\n",
    "  #creating empty vector \n",
    "\n",
    "#looping through different values\n",
    "for i in x:\n",
    "    l_vec.append(labor(i))  #filling in the numbers in the vector\n",
    "    \n",
    "\n",
    "#Plotting\n",
    "plt.plot(x,l_vec)\n",
    "plt.xlabel(\"labor rate\")\n",
    "plt.ylabel(\"steady state\")\n",
    "plt.title(\"labor rate impact\")\n",
    "plt.show()"
   ]
  },
  {
   "cell_type": "markdown",
   "metadata": {},
   "source": [
    "The graph shows that the steady state value of capital per effective worker depends negatively on the growth of labour supply. The explanation for this is equivalent to the one discussed about the growth rate of labour augmenting capital; when the labour force increases, output increases, but since the labour force increases relatively more, the level of capital per worker will decrease."
   ]
  },
  {
   "cell_type": "markdown",
   "metadata": {},
   "source": [
    "Lastly, we can create an interactive figure to show the affects of the parameters all together."
   ]
  },
  {
   "cell_type": "code",
   "execution_count": 45,
   "metadata": {},
   "outputs": [],
   "source": [
    "def interactive_figure(g,n,s):\n",
    "    \n",
    "    steadystate = ss_solver(s,g,n,1/3,0.1).root\n",
    "    return steadystate\n",
    "    "
   ]
  },
  {
   "cell_type": "code",
   "execution_count": 46,
   "metadata": {},
   "outputs": [
    {
     "data": {
      "application/vnd.jupyter.widget-view+json": {
       "model_id": "34300fc7f0a347d1b582532222a5ad17",
       "version_major": 2,
       "version_minor": 0
      },
      "text/plain": [
       "interactive(children=(FloatSlider(value=0.2, description='$Technology growth rate$', max=0.2, step=0.001), Flo…"
      ]
     },
     "metadata": {},
     "output_type": "display_data"
    }
   ],
   "source": [
    "\n",
    "widgets.interact(interactive_figure,\n",
    "    g=widgets.FloatSlider(description=\"$Technology growth rate$\", min=0, max=0.2, step=0.001, value=2),\n",
    "    n=widgets.FloatSlider(description=\"$Labor rate$\", min=0, max=1, step=0.05, value=2),\n",
    "    s=widgets.FloatSlider(description=\"$Saving rate$\", min=0.2, max=1, step=0.05, value=2),\n",
    ");"
   ]
  },
  {
   "cell_type": "markdown",
   "metadata": {},
   "source": [
    "The interactive figure confirms the conclusions that were illustrated above; the steady state level of capital per effective worker depends positive on the savings rate and negative on the labor growth rate and the technology growth rate."
   ]
  },
  {
   "cell_type": "markdown",
   "metadata": {},
   "source": [
    "## Solow extention - Green Solow Model"
   ]
  },
  {
   "cell_type": "markdown",
   "metadata": {},
   "source": [
    "The extension to the Solow Model, called the Green Solow Model, introduces another equation in the model:\n",
    "\n",
    "\\begin{align}\n",
    "E_t=\\Omega Y_t-\\Omega A(Y_t,R_t) \\quad \\quad (5) \n",
    "\\end{align}\n",
    "\n",
    ", where E is total emissions. Equation (5) shows that the total emissions is a function of the production and the amount of emissions that are abated. $\\omega$ is the fraction of production that turns into an emission cost. There is a linear relationship between production and the amount of pollution from it.\n",
    "The abatement function is assumed to be concavely increasing in output, $Y$, and effort to abate, $R$. Thus, the effect of abatement on the emissions is diminishing.\n",
    "\n",
    "Abatement has a cost, and for this reason, output will be lower when including this equation in the model. We define output as:\n",
    "\n",
    "\\begin{align}\n",
    "Y=Y_t-R_t=(1-\\theta)Y_t \\quad \\quad (6) \n",
    "\\end{align}\n",
    "\n",
    "This can be rewritten to fully understand the effect on emissions in the model:\n",
    "\n",
    "\\begin{align}\n",
    "    &E=\\Omega (Y_t-A_t(Y_t,R_t)) \\quad \\quad (7) \\\\  \n",
    "    &E=\\Omega Y_t(1-A_t(1,\\frac{R_t}{Y_t}) \\quad \\quad (8) \\\\  \n",
    "    &E=\\Omega Y_t \\alpha(\\theta_t), \\quad \\theta_t \\equiv \\frac{R_t}{Y_t} \\quad \\alpha(\\theta_t) \\equiv 1-A_t(1,\\theta_t) \\quad \\quad (9) \\\\\n",
    "\\end{align}\n",
    "\n",
    "The production function still has constant returns to scale. This implies that we can derive the model in output per effetive worker as:\n",
    "\n",
    "\\begin{align}\n",
    "Y_t=K_t^\\alpha (B_tL_t)^{1-\\alpha} \\Rightarrow y_t=k_t^\\alpha \\quad y_t\\equiv \\frac{Y_t}{B_tL_t},\\quad k_t\\equiv \\frac{K_t}{B_tL_t} \\quad \\quad (10) \n",
    "\\end{align}\n",
    "\n",
    "Now, we are able to calculate the new transition equation for capital per effective worker. We get:  \n",
    "\n",
    "\\begin{align}\n",
    "\\dot{k_t}=s(1-\\theta_t)k_t^\\alpha-k_t(\\delta+g_B+n) \\quad \\quad (11) \n",
    "\\end{align}\n"
   ]
  },
  {
   "cell_type": "markdown",
   "metadata": {},
   "source": [
    "Just as with the standard Solow Model, we can compute the steady state analytically or numerically. This time we will only do it analytically."
   ]
  },
  {
   "cell_type": "code",
   "execution_count": 61,
   "metadata": {},
   "outputs": [
    {
     "data": {
      "text/latex": [
       "$\\displaystyle \\left(\\frac{s \\left(1 - \\theta\\right)}{\\delta + g + n}\\right)^{- \\frac{1}{\\alpha - 1}}$"
      ],
      "text/plain": [
       "(s*(1 - theta)/(delta + g + n))**(-1/(alpha - 1))"
      ]
     },
     "execution_count": 61,
     "metadata": {},
     "output_type": "execute_result"
    }
   ],
   "source": [
    "#defining paramters using sympy\n",
    "theta_gs = sm.symbols('theta')\n",
    "k_gs = sm.symbols('k')\n",
    "alpha_gs = sm.symbols('alpha')\n",
    "delta_gs = sm.symbols('delta')\n",
    "s_gs = sm.symbols('s')\n",
    "g_gs = sm.symbols('g')\n",
    "n_gs = sm.symbols('n')\n",
    "\n",
    "# Standard per effective capita production function\n",
    "f=k_gs**alpha_gs\n",
    "\n",
    "# transition equation \n",
    "tc=sm.Eq(0,(s_gs*(1-theta_gs)*k_gs**alpha_gs-(delta_gs+g_gs+n_gs)*k_gs))\n",
    "\n",
    "# Solving the transition equation (tc) for k using sympy.\n",
    "tcc=sm.solve(tc,k_gs)[0]\n",
    "tcc"
   ]
  },
  {
   "cell_type": "markdown",
   "metadata": {},
   "source": [
    "After solving the function we can then calculate the steady state."
   ]
  },
  {
   "cell_type": "code",
   "execution_count": 63,
   "metadata": {},
   "outputs": [
    {
     "name": "stdout",
     "output_type": "stream",
     "text": [
      "analytical solution is: 0.487\n"
     ]
    }
   ],
   "source": [
    "tc_func = sm.lambdify((s_gs,g_gs,n_gs,delta_gs,alpha_gs,theta_gs),tcc)\n",
    "\n",
    "s_gs = 0.2\n",
    "g_gs = 0.02\n",
    "n_gs = 0.01\n",
    "alpha_gs = 1/3\n",
    "delta_gs = 0.1\n",
    "theta_gs = 0.05\n",
    "\n",
    "print(f'analytical solution is: {tc_func(s_gs,g_gs,n_gs,alpha_gs,delta_gs,theta_gs):.3f}')\n"
   ]
  },
  {
   "cell_type": "markdown",
   "metadata": {},
   "source": [
    "The result implies that the introduction of emissions in the model have a negative effect on the steady state level of capital per worker. When applying the same parameter values as before, we get a much lower result for the steady state, since now the production entails a cost on the environment."
   ]
  },
  {
   "cell_type": "markdown",
   "metadata": {},
   "source": [
    "We now want to illustrate steady state in a transition plot. The plot shows how capital evolves over time and reaches steady state at the intersect between the two lines."
   ]
  },
  {
   "cell_type": "code",
   "execution_count": 65,
   "metadata": {},
   "outputs": [
    {
     "data": {
      "application/vnd.jupyter.widget-view+json": {
       "model_id": "c656d6bdbe4645e2b4706ffc644aeff3",
       "version_major": 2,
       "version_minor": 0
      },
      "text/plain": [
       "interactive(children=(FloatSlider(value=0.05, description='$\\\\theta$', max=1.0, step=0.01), FloatSlider(value=…"
      ]
     },
     "metadata": {},
     "output_type": "display_data"
    }
   ],
   "source": [
    "# Defining the investment per worker function\n",
    "def invest_per_work2(k_gs, theta_gs,alpha_gs,s_gs):\n",
    "    return (s_gs*(1-theta_gs)*k_gs**alpha_gs)\n",
    "\n",
    "#calculating break  even inflation\n",
    "def break_even(k_gs):\n",
    "    return (delta_gs+g_gs+n_gs)*k_gs\n",
    "\n",
    "\n",
    "\n",
    "\n",
    "# Defining the k values of the function\n",
    "x_vec = np.linspace(0,50,50)\n",
    "\n",
    "\n",
    "def transition_diagram2(theta_gs,alpha_gs,s_gs):\n",
    "    \n",
    "    fig = plt.figure(figsize=(7,4)) # create the figure\n",
    "    plt.xlabel('k') # label x-axis\n",
    "    investment=invest_per_work2(x_vec,theta_gs,alpha_gs,s_gs) # calculate the investments per worker using the function\n",
    "    break_even_cap=break_even(x_vec) # calculate the break even equation for the x-values\n",
    "    plt.title('Green solow transition diagram') #Title\n",
    "    ax = fig.add_subplot(1,1,1) # Include many plots \n",
    "    ax.plot(break_even_cap, label='$(\\delta+g_B+n)\\cdot k$'); # plot and label\n",
    "    ax.plot(investment, label='$s \\cdot (1-\\\\theta)\\cdot k^\\\\alpha $'); # plot and label\n",
    "    ax.set_xlim([0,50]) # fixed x range\n",
    "    ax.set_yticklabels([]) #remove y-labes\n",
    "    plt.legend() # plot the labels in the legend\n",
    "    \n",
    "\n",
    "# Call diagram with widgets\n",
    "widgets.interact(transition_diagram2,\n",
    "    \n",
    "    # widgets for all the inputs in the function transition_diagram2             \n",
    "    theta_gs=widgets.FloatSlider(description=\"$\\\\theta$\", min=0, max=1, step=0.01, value=0.05),\n",
    "    alpha_gs=widgets.FloatSlider(description=\"$\\\\alpha$\", min=0, max=1, step=0.01, value=0.25),\n",
    "    s_gs=widgets.FloatSlider(description=\"$s$\", min=0, max=1, step=0.01, value=0.25),\n",
    "    \n",
    ");"
   ]
  },
  {
   "cell_type": "markdown",
   "metadata": {},
   "source": [
    "The intersection between the two curves illustrates the steady state of the model. The figure shows that if the entire income is spent on abating emissions, $\\theta=1$, there will be no accumulation of capital and thus no income. Generally speaking, a lower abatement is less costly and thus leads to a higher steady state level of capital per effective worker. However, if the level of abatement is in fact too low, then it can cause damage to the economy that can't be reversed. We can add that a higher savings rate still leads to a higher steady state level of capital per worker, as per the same reasons as in the standard Solow Model."
   ]
  },
  {
   "cell_type": "markdown",
   "metadata": {},
   "source": [
    "Lastly we can again se how the saving rate, the abatement, the labor rate and the growth rate of technology affects the steady state."
   ]
  },
  {
   "cell_type": "code",
   "execution_count": 66,
   "metadata": {},
   "outputs": [],
   "source": [
    "#Defining figure function which depend on the values we want to look at\n",
    "def interactive_figure(g,n,s,theta):\n",
    "    \n",
    "    steadystate = tc_func(s,g,n,1/3,0.1,theta)\n",
    "    return steadystate\n",
    "    "
   ]
  },
  {
   "cell_type": "code",
   "execution_count": 68,
   "metadata": {},
   "outputs": [
    {
     "data": {
      "application/vnd.jupyter.widget-view+json": {
       "model_id": "d8267085d64f48908dae476987310c38",
       "version_major": 2,
       "version_minor": 0
      },
      "text/plain": [
       "interactive(children=(FloatSlider(value=0.2, description='$Technology growth rate$', max=0.2, step=0.001), Flo…"
      ]
     },
     "metadata": {},
     "output_type": "display_data"
    }
   ],
   "source": [
    "#Using widgets to make interactive results\n",
    "widgets.interact(interactive_figure,\n",
    "    g=widgets.FloatSlider(description=\"$Technology growth rate$\", min=0, max=0.2, step=0.001, value=2),\n",
    "    n=widgets.FloatSlider(description=\"$Labor rate$\", min=0, max=1, step=0.05, value=2),\n",
    "    s=widgets.FloatSlider(description=\"$Saving rate$\", min=0.2, max=1, step=0.05, value=2),\n",
    "    theta=widgets.FloatSlider(description=\"$Abatement rate$\", min=0, max=1, step=0.05, value=2),\n",
    ");"
   ]
  },
  {
   "cell_type": "markdown",
   "metadata": {},
   "source": [
    "The interactive figure above confirms that when the abatement rate is set to 1, then there will be no capital accumulation and thus no income. Generally, the same relationships are present; technology and labour decreases the steady state level of capital per effective worker, while the savings rate increases it."
   ]
  },
  {
   "cell_type": "markdown",
   "metadata": {},
   "source": [
    "# Conclusion"
   ]
  },
  {
   "cell_type": "markdown",
   "metadata": {},
   "source": [
    "In this project we have examined the properties and results of a standard Solow Model. We have then introduced an additional equation to the model, including emissions as a cost of production. This model is called the Green Solow Model, and it provides a framework for analyzing economic growth while accounting for the toll it takes on the environment. While the results of the two models are similar, the Green Solow Model shows that abatement of emissions is costly but needed to some extent, if we are to avoid irreversable damage to the economy."
   ]
  }
 ],
 "metadata": {
  "kernelspec": {
   "display_name": "Python 3",
   "language": "python",
   "name": "python3"
  },
  "language_info": {
   "codemirror_mode": {
    "name": "ipython",
    "version": 3
   },
   "file_extension": ".py",
   "mimetype": "text/x-python",
   "name": "python",
   "nbconvert_exporter": "python",
   "pygments_lexer": "ipython3",
   "version": "3.7.4"
  },
  "toc-autonumbering": true
 },
 "nbformat": 4,
 "nbformat_minor": 4
}
